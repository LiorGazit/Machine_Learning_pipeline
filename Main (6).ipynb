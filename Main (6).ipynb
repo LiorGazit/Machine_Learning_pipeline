{
 "cells": [
  {
   "cell_type": "markdown",
   "metadata": {},
   "source": [
    "# This Notebook is a Multiclassification Pipeline for Text Observations\n",
    "## The pipeline consists of:  \n",
    "1. Gathering the data  \n",
    "1. Processing the data  \n",
    "1. Exploring the data  \n",
    "1. Feature engineering  \n",
    "1. Preliminary feature selection based on univariate proxies  \n",
    "1. ML models selection  \n",
    "1. Training chosen model  \n",
    "1. Generating performance metrics  \n",
    "\n",
    "## The Data:\n",
    "A data set from ??? that holds texts and a class for each.  \n",
    "There are 8 total classes for this set, so the appropriate solution is a NLP-ML classifier.\n",
    "\n",
    "```\n",
    "## Approach:\n",
    "A simple generic ML approach.  \n",
    "Meaning, I don't leverage any NLP-dedicated models (like BERT or GPT3).  \n",
    "But rather I design numerical features for the various text terms (One Hot Encoding/Bag of Words/TFIDF), and pipe them into generic ML models.  \n",
    "```"
   ]
  },
  {
   "cell_type": "code",
   "execution_count": 12,
   "metadata": {},
   "outputs": [],
   "source": [
    "import numpy as np\n",
    "import pandas as pd\n",
    "import matplotlib\n",
    "import scipy\n",
    "import re\n",
    "\n",
    "# ML imports: \n",
    "from sklearn.feature_extraction.text import TfidfVectorizer,CountVectorizer\n",
    "from sklearn.model_selection import train_test_split, cross_val_score, GridSearchCV, StratifiedKFold\n",
    "import sklearn.linear_model as lm\n",
    "from sklearn.ensemble import RandomForestClassifier\n",
    "from sklearn.neighbors import KNeighborsClassifier\n",
    "from sklearn.neural_network import MLPClassifier\n",
    "from sklearn.svm import SVC\n",
    "from sklearn.tree import DecisionTreeClassifier\n",
    "\n"
   ]
  },
  {
   "cell_type": "code",
   "execution_count": 13,
   "metadata": {},
   "outputs": [],
   "source": [
    "# file_name: The file from Hackerrank that holds the raw data\n",
    "# do_preprocessing: Logical, should preprocessing be performed\n",
    "# do_feature_eng: Logical\n",
    "# do_cleaning: Logical\n",
    "# maximize_a_priori: Logocal, should the univariate preliminary feature selection be based on a priori or a postiori stats\n",
    "# num_chosen_features_per_class: Int, for the preliminary feature selection, how many features should be selected per class\n",
    "# test_size: ratio between 0 - 1\n",
    "# feature_eng_details: Either \"TfidfVectorizer\" (for TFIDF feature eng.) or \"CountVectorizer\" (for one hot encoding)\n",
    "config_dict = {'file_name': \"trainingdata_2.txt\",\n",
    "               'do_preprocessing': True,\n",
    "               'do_feature_eng': True,\n",
    "               'do_cleaning': True,\n",
    "               'maximize_a_priori': True,\n",
    "               'num_chosen_features_per_class': 4,\n",
    "               'test_size': 0.2,\n",
    "               'feature_eng_details': \"CountVectorizer\",\n",
    "               'ngram_range_min': 1,\n",
    "               'ngram_range_max': 2,\n",
    "               'max_features': 2000}\n",
    "\n",
    "pd.set_option('display.max_colwidth', None)\n",
    "pd.set_option('display.max_rows', None)\n"
   ]
  },
  {
   "cell_type": "code",
   "execution_count": 14,
   "metadata": {},
   "outputs": [],
   "source": [
    "dataset_raw = pd.read_csv(config_dict[\"file_name\"])"
   ]
  },
  {
   "cell_type": "code",
   "execution_count": 15,
   "metadata": {},
   "outputs": [
    {
     "data": {
      "text/html": [
       "<style  type=\"text/css\" >\n",
       "#T_c1240_row0_col0,#T_c1240_row0_col1,#T_c1240_row1_col0,#T_c1240_row1_col1,#T_c1240_row2_col0,#T_c1240_row2_col1,#T_c1240_row3_col0,#T_c1240_row3_col1,#T_c1240_row4_col0,#T_c1240_row4_col1{\n",
       "            text-align:  left;\n",
       "        }</style><table id=\"T_c1240_\" ><thead>    <tr>        <th class=\"blank level0\" ></th>        <th class=\"col_heading level0 col0\" >class</th>        <th class=\"col_heading level0 col1\" >text</th>    </tr></thead><tbody>\n",
       "                <tr>\n",
       "                        <th id=\"T_c1240_level0_row0\" class=\"row_heading level0 row0\" >0</th>\n",
       "                        <td id=\"T_c1240_row0_col0\" class=\"data row0 col0\" >1</td>\n",
       "                        <td id=\"T_c1240_row0_col1\" class=\"data row0 col1\" >champion products ch approves stock split champion products inc said its board of directors approved a two for one stock split of its common shares for shareholders of record as of april the company also said its board voted to recommend to shareholders at the annual meeting april an increase in the authorized capital stock from five mln to mln shares reuter </td>\n",
       "            </tr>\n",
       "            <tr>\n",
       "                        <th id=\"T_c1240_level0_row1\" class=\"row_heading level0 row1\" >1</th>\n",
       "                        <td id=\"T_c1240_row1_col0\" class=\"data row1 col0\" >2</td>\n",
       "                        <td id=\"T_c1240_row1_col1\" class=\"data row1 col1\" >computer terminal systems cpml completes sale computer terminal systems inc said it has completed the sale of shares of its common stock and warrants to acquire an additional one mln shares to sedio n v of lugano switzerland for dlrs the company said the warrants are exercisable for five years at a purchase price of dlrs per share computer terminal said sedio also has the right to buy additional shares and increase its total holdings up to pct of the computer terminal s outstanding common stock under certain circumstances involving change of control at the company the company said if the conditions occur the warrants would be exercisable at a price equal to pct of its common stock s market price at the time not to exceed dlrs per share computer terminal also said it sold the technolgy rights to its dot matrix impact technology including any future improvements to woodco inc of houston tex for dlrs but it said it would continue to be the exclusive worldwide licensee of the technology for woodco the company said the moves were part of its reorganization plan and would help pay current operation costs and ensure product delivery computer terminal makes computer generated labels forms tags and ticket printers and terminals reuter </td>\n",
       "            </tr>\n",
       "            <tr>\n",
       "                        <th id=\"T_c1240_level0_row2\" class=\"row_heading level0 row2\" >2</th>\n",
       "                        <td id=\"T_c1240_row2_col0\" class=\"data row2 col0\" >1</td>\n",
       "                        <td id=\"T_c1240_row2_col1\" class=\"data row2 col1\" >cobanco inc cbco year net shr cts vs dlrs net vs assets mln vs mln deposits mln vs mln loans mln vs mln note th qtr not available year includes extraordinary gain from tax carry forward of dlrs or five cts per shr reuter </td>\n",
       "            </tr>\n",
       "            <tr>\n",
       "                        <th id=\"T_c1240_level0_row3\" class=\"row_heading level0 row3\" >3</th>\n",
       "                        <td id=\"T_c1240_row3_col0\" class=\"data row3 col0\" >1</td>\n",
       "                        <td id=\"T_c1240_row3_col1\" class=\"data row3 col1\" >am international inc am nd qtr jan oper shr loss two cts vs profit seven cts oper shr profit vs profit revs mln vs mln avg shrs mln vs mln six mths oper shr profit nil vs profit cts oper net profit vs profit revs mln vs mln avg shrs mln vs mln note per shr calculated after payment of preferred dividends results exclude credits of or four cts and or nine cts for qtr and six mths vs or six cts and or cts for prior periods from operating loss carryforwards reuter </td>\n",
       "            </tr>\n",
       "            <tr>\n",
       "                        <th id=\"T_c1240_level0_row4\" class=\"row_heading level0 row4\" >4</th>\n",
       "                        <td id=\"T_c1240_row4_col0\" class=\"data row4 col0\" >1</td>\n",
       "                        <td id=\"T_c1240_row4_col1\" class=\"data row4 col1\" >brown forman inc bfd th qtr net shr one dlr vs cts net mln vs mln revs mln vs mln nine mths shr dlrs vs dlrs net mln vs mln revs billion vs mln reuter </td>\n",
       "            </tr>\n",
       "    </tbody></table>"
      ],
      "text/plain": [
       "<pandas.io.formats.style.Styler at 0x7fa3707f5ad0>"
      ]
     },
     "execution_count": 15,
     "metadata": {},
     "output_type": "execute_result"
    }
   ],
   "source": [
    "dataset_parsed = pd.DataFrame([])\n",
    "dataset_parsed[[\"class\", \"text\"]] = dataset_raw.iloc[:, 0].str.split(\" \", 1, expand=True)\n",
    "\n",
    "dataset_parsed.head().style.set_properties(**{'text-align': 'left'})"
   ]
  },
  {
   "cell_type": "code",
   "execution_count": null,
   "metadata": {},
   "outputs": [],
   "source": []
  }
 ],
 "metadata": {
  "kernelspec": {
   "display_name": "conda_mxnet_latest_p37",
   "language": "python",
   "name": "conda_mxnet_latest_p37"
  },
  "language_info": {
   "codemirror_mode": {
    "name": "ipython",
    "version": 3
   },
   "file_extension": ".py",
   "mimetype": "text/x-python",
   "name": "python",
   "nbconvert_exporter": "python",
   "pygments_lexer": "ipython3",
   "version": "3.7.10"
  }
 },
 "nbformat": 4,
 "nbformat_minor": 4
}
